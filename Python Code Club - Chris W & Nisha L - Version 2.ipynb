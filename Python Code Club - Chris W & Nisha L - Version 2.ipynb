{
 "cells": [
  {
   "cell_type": "markdown",
   "metadata": {},
   "source": [
    "# Welcome to Python Code Club!"
   ]
  },
  {
   "cell_type": "markdown",
   "metadata": {},
   "source": [
    "Hooray! You are part of an exciting group of people that have worked through this notebook in order to learn Python. Python is one of many programming languages. It's really simple and easy to learn. In order to get all the information from Bloodhound SSC like the speed & brake temperature, we use Python programming. Today you're going to learn a little bit of Python!"
   ]
  },
  {
   "cell_type": "markdown",
   "metadata": {},
   "source": [
    "#### Don't worry! If you need help, we have plenty of team members to help you! Hope you have fun and good luck! 🙂 🐍"
   ]
  },
  {
   "cell_type": "markdown",
   "metadata": {},
   "source": [
    "Run this cell below by holding down the `Shift` key and pressing `Enter`"
   ]
  },
  {
   "cell_type": "code",
   "execution_count": null,
   "metadata": {},
   "outputs": [],
   "source": [
    "from IPython.display import Image, HTML, display\n",
    "display(HTML(\"<table><tr><td width='30%'><img src='python.png' width='80%'></td><td><img src='BHTransparent.png'></td><td><img src='RaspberryPi.png'></td></tr></table>\"))"
   ]
  },
  {
   "cell_type": "markdown",
   "metadata": {},
   "source": [
    "The first picture that appears is the Python logo for programming, the middle picture is of the Bloodhound SSC car where you can see the inside rocket engine and other parts of the car, the third picture that appears is of a Raspberry Pi. Raspberry Pi's are small computers the size of a credit card. \n",
    "\n",
    "Now you may be wondering why are you seeing a picture of a Raspberry Pi, well in order to get all the data & numbers stored in Bloodhound SSC, Oracle used Raspberry Pi's and code written in Python to stream the data! Speak with us to find out more."
   ]
  },
  {
   "cell_type": "markdown",
   "metadata": {},
   "source": [
    "Run the cell below by holding down the `Shift` key and pressing `Enter` and take a look at the image to see what forces and stressed will be exerted on Bloodhound SSC and the driver, Andy Green!"
   ]
  },
  {
   "cell_type": "code",
   "execution_count": null,
   "metadata": {},
   "outputs": [],
   "source": [
    "Image(filename='BHTenFacts.jpg', width=600)"
   ]
  },
  {
   "cell_type": "markdown",
   "metadata": {},
   "source": [
    "## 📐 Section 1"
   ]
  },
  {
   "cell_type": "markdown",
   "metadata": {},
   "source": [
    "In Section 1 we will be learning about the following:\n",
    "    - print statements\n",
    "    - commenting your code"
   ]
  },
  {
   "cell_type": "markdown",
   "metadata": {},
   "source": [
    "First let's take a look at print statements: <br />\n",
    "Run the cell below by holding down the `Shift` key and pressing `Enter`"
   ]
  },
  {
   "cell_type": "code",
   "execution_count": null,
   "metadata": {},
   "outputs": [],
   "source": [
    "# This is a comment! This is not code\n",
    "# Comments are useful to label what code does\n",
    "print(\"Hello, world!\")\n",
    "print(\"\\n\")\n",
    "print(\"Did you know BloodhoundSSC is aiming to reach over 1000mph?\")\n",
    "print(\"It will reach mach 1.4, which means it will travel 1.4 times the speed of sound 480.2 ms⁻¹\")"
   ]
  },
  {
   "cell_type": "markdown",
   "metadata": {},
   "source": [
    "What does the \"\\n\" character do??"
   ]
  },
  {
   "cell_type": "markdown",
   "metadata": {},
   "source": [
    "## 🙋 Question 1:"
   ]
  },
  {
   "cell_type": "markdown",
   "metadata": {},
   "source": [
    "In python, copy and paste the below into print statements, remember to use the new line character for the paragraphs:\n",
    "    \n",
    "    \"The Jet Engine that powers BLOODHOUND produces over 20,000 lb of thrust and the hybrid rocket engines \n",
    "    that kick in at 500 mph have over 27,000 lb of thrust.\n",
    "    \n",
    "    Did you know that BLOODHOUND SSC will travel so fast that at a top speed it will cover the length of \n",
    "    4.5 football pitches in 1 sec\"\n",
    "\n",
    "Test out your code in the cell below."
   ]
  },
  {
   "cell_type": "code",
   "execution_count": null,
   "metadata": {},
   "outputs": [],
   "source": [
    "# YOUR ANSWER HERE:\n"
   ]
  },
  {
   "cell_type": "markdown",
   "metadata": {},
   "source": [
    "## 📐 Section 2"
   ]
  },
  {
   "cell_type": "markdown",
   "metadata": {},
   "source": [
    "In Section 2 we will be learning about the following\n",
    "    - capturing user input\n",
    "    - addition\n",
    "    - storing numbers in variables"
   ]
  },
  {
   "cell_type": "markdown",
   "metadata": {},
   "source": [
    "Now let's take a look at capturing user input and converting variable types: <br/>\n",
    "Run the cell below by holding down the `Shift` key and pressing `Enter`"
   ]
  },
  {
   "cell_type": "code",
   "execution_count": null,
   "metadata": {},
   "outputs": [],
   "source": [
    "# Capturing user input\n",
    "# Take input form the user and store them in two different variables.\n",
    "num1 = input(\"Enter the first number: \")\n",
    "num2 = input(\"Enter the second number: \")\n",
    "num3 = 10\n",
    "\n",
    "# Convert the data type of the two variables from str to int.\n",
    "num1 = int(num1)\n",
    "num2 = int(num2)\n",
    "\n",
    "# Add the two ints together.\n",
    "total = num1 + num2 + num3\n",
    "\n",
    "# Print the results to the screen, using the format function.\n",
    "print (\"The sum of {0}, {1} and {2} is {3}\".format(num1, num2, num3, total))"
   ]
  },
  {
   "cell_type": "markdown",
   "metadata": {},
   "source": [
    "## 🙋 Question 2:"
   ]
  },
  {
   "cell_type": "markdown",
   "metadata": {},
   "source": [
    "The Bloodhound SSC vehicle weighs: 6200 $kg$\n",
    "Andy Green (the driver) weighs: 100 $kg$\n",
    "The rocket fuel and engine fuel weighs: 1700 $kg$ \n",
    "\n",
    "How much does everything weigh altogether? Print out your answer & test out your code in the box below"
   ]
  },
  {
   "cell_type": "code",
   "execution_count": null,
   "metadata": {},
   "outputs": [],
   "source": [
    "# YOUR ANSWER HERE:\n"
   ]
  },
  {
   "cell_type": "markdown",
   "metadata": {},
   "source": [
    "## 📐 Section 3"
   ]
  },
  {
   "cell_type": "markdown",
   "metadata": {},
   "source": [
    "In Section 3 we will be learning about the following\n",
    "    - if-else statements\n",
    "    - true & false"
   ]
  },
  {
   "cell_type": "markdown",
   "metadata": {},
   "source": [
    "Try changing the value of current_speed to print out different things in the if-else statement. <br/>Run the cell below by holding down the `Shift` key and pressing `Enter`"
   ]
  },
  {
   "cell_type": "code",
   "execution_count": null,
   "metadata": {},
   "outputs": [],
   "source": [
    "# current speed of Bloodhound in mph\n",
    "current_speed = 180\n",
    "max_speed = 210\n",
    "\n",
    "\n",
    "if (current_speed < max_speed):\n",
    "    \n",
    "    print(\"Bloodhound is still accelerating at ...\" + str(current_speed) + \" mph\")\n",
    "    \n",
    "elif (current_speed == max_speed):\n",
    "    \n",
    "    print(\"Bloodhound has hit its current top speed at ...\" + str(current_speed) + \" mph\")\n",
    "    \n",
    "else:\n",
    "    \n",
    "    print (\"Wow Bloodhound!! That was really fast!\")"
   ]
  },
  {
   "cell_type": "markdown",
   "metadata": {},
   "source": [
    "## 🙋 Question 3:"
   ]
  },
  {
   "cell_type": "markdown",
   "metadata": {},
   "source": [
    "Write your own if-else statement below. Test out your code in the box below"
   ]
  },
  {
   "cell_type": "code",
   "execution_count": null,
   "metadata": {},
   "outputs": [],
   "source": [
    "# YOUR ANSWER HERE:\n"
   ]
  },
  {
   "cell_type": "markdown",
   "metadata": {},
   "source": [
    "## 📐 Section 4"
   ]
  },
  {
   "cell_type": "markdown",
   "metadata": {},
   "source": [
    "In Section 4 we will be learning about the following\n",
    "    - for loops"
   ]
  },
  {
   "cell_type": "markdown",
   "metadata": {},
   "source": [
    "Run the following piece of code and think about what happens in this for loop. <br />\n",
    "Run the cell below by holding down the `Shift` key and pressing `Enter`"
   ]
  },
  {
   "cell_type": "code",
   "execution_count": null,
   "metadata": {},
   "outputs": [],
   "source": [
    "my_list = [\"Supersonic\", \"Aerodynamic\", \"Kinetic\", \"Rocket Engine\", \"Hydraulic\"]\n",
    "\n",
    "# first for loop\n",
    "for word in my_list:\n",
    "    print word,\n",
    "    \n",
    "print \"\\n\"\n",
    "\n",
    "# second for loop\n",
    "for i in range (len(my_list)):\n",
    "    print i"
   ]
  },
  {
   "cell_type": "markdown",
   "metadata": {},
   "source": [
    "## 🙋 Question 5:"
   ]
  },
  {
   "cell_type": "markdown",
   "metadata": {},
   "source": [
    "Using a for loop, how can we write the numbers 1 to 10? Test out your code in the cell below"
   ]
  },
  {
   "cell_type": "code",
   "execution_count": null,
   "metadata": {},
   "outputs": [],
   "source": [
    "# YOUR ANSWER HERE:\n"
   ]
  },
  {
   "cell_type": "markdown",
   "metadata": {},
   "source": [
    "Run the cell below by holding down the `Shift` key and pressing `Enter` to find out some amazing facts about Bloodhound SSC and to see the history of the land speed record being broken!"
   ]
  },
  {
   "cell_type": "code",
   "execution_count": null,
   "metadata": {},
   "outputs": [],
   "source": [
    "display(HTML(\"<table><tr><td width='50%'><img src='BHAstoundingFacts.jpg' width='100%'></td><td><img src='BHSpeed.jpg'></td></tr></table>\"))"
   ]
  },
  {
   "cell_type": "markdown",
   "metadata": {},
   "source": [
    "Congratulations! You've reached the end of code club and have now got an introduction on how to write code in python! We hope you have had lots of fun going through this notebook and learnt something new!"
   ]
  }
 ],
 "metadata": {
  "kernelspec": {
   "display_name": "Python 2",
   "language": "python",
   "name": "python2"
  },
  "language_info": {
   "codemirror_mode": {
    "name": "ipython",
    "version": 2
   },
   "file_extension": ".py",
   "mimetype": "text/x-python",
   "name": "python",
   "nbconvert_exporter": "python",
   "pygments_lexer": "ipython2",
   "version": "2.7.15"
  }
 },
 "nbformat": 4,
 "nbformat_minor": 2
}
