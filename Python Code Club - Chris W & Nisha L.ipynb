{
 "cells": [
  {
   "cell_type": "markdown",
   "metadata": {},
   "source": [
    "# Welcome to Python Code Club!"
   ]
  },
  {
   "cell_type": "markdown",
   "metadata": {},
   "source": [
    "Hooray! You are part of an exclusive group of people that have worked through this self-contained Jupyter notebook in order to learn Python. Python is an interpreted high-level programming language for general-purpose programming. It's really simple and easy to learn. Throughout this notebook you will initially learn the basics of programming in Python, covering operators, statements, variables and loops. We will then move onto some harder topics and if you reach further we have a question applying programming to the physics of Bloodhound SSC!"
   ]
  },
  {
   "cell_type": "markdown",
   "metadata": {},
   "source": [
    "#### Don't worry! If you need further assistance, we have plenty of team members to help you!"
   ]
  },
  {
   "cell_type": "markdown",
   "metadata": {},
   "source": [
    "####  Hope you have fun and good luck! 🙂 🐍"
   ]
  },
  {
   "cell_type": "markdown",
   "metadata": {},
   "source": [
    "Run this cell below by holding down the `Shift` key and pressing `Enter`"
   ]
  },
  {
   "cell_type": "code",
   "execution_count": null,
   "metadata": {},
   "outputs": [],
   "source": [
    "from IPython.display import Image, HTML, display\n",
    "display(HTML(\"<table><tr><td width='30%'><img src='python.png' width='80%'></td><td><img src='BHTransparent.png'></td><td><img src='RaspberryPi.png'></td></tr></table>\"))"
   ]
  },
  {
   "cell_type": "markdown",
   "metadata": {},
   "source": [
    "You will notice the first image that appears is the Python logo for programming, the next image is of the Bloodhound SSC car where you can see the inside rocket engine and other parts of the car, the third image that appears is of a Raspberry Pi. Raspberry Pi's are small computers the size of a credit card. \n",
    "\n",
    "Now you may be wondering why are you seeing a picture of a Raspberry Pi, well in order to get all the data stored in Bloodhound, Oracle used Raspberry Pi's and code written in Python to stream the data into our cloud! Speak with us to find out more."
   ]
  },
  {
   "cell_type": "markdown",
   "metadata": {},
   "source": [
    "Run the cell below by holding down the `Shift` key and pressing `Enter` and take a look at the image to see what forces and stressed will be exerted on Bloodhound SSC and the driver, Andy Green!"
   ]
  },
  {
   "cell_type": "code",
   "execution_count": null,
   "metadata": {},
   "outputs": [],
   "source": [
    "Image(filename='BHTenFacts.jpg', width=600)"
   ]
  },
  {
   "cell_type": "markdown",
   "metadata": {},
   "source": [
    "## 📐 Section 1"
   ]
  },
  {
   "cell_type": "markdown",
   "metadata": {},
   "source": [
    "In Section 1 we will be learning about the following:\n",
    "    - print statements\n",
    "    - how to obtain and use user input\n",
    "    - how to produce user output\n",
    "    - using variables in python & variable types\n",
    "    - commenting your code"
   ]
  },
  {
   "cell_type": "markdown",
   "metadata": {},
   "source": [
    "First let's take a look at print statements: <br />\n",
    "Run the cell below by holding down the `Shift` key and pressing `Enter`"
   ]
  },
  {
   "cell_type": "code",
   "execution_count": null,
   "metadata": {},
   "outputs": [],
   "source": [
    "print(\"Hello, world!\")\n",
    "print(\"\\n\")\n",
    "print(\"Did you know BloodhoundSSC is aiming to reach over 1000mph?\")\n",
    "print(\"It will reach mach 1.4, which means it will travel 1.4 times the speed of sound 480.2 ms⁻¹\")"
   ]
  },
  {
   "cell_type": "markdown",
   "metadata": {},
   "source": [
    "What does the \"\\n\" character do??"
   ]
  },
  {
   "cell_type": "markdown",
   "metadata": {},
   "source": [
    "Now let's take a look at capturing user input and converting variable types:"
   ]
  },
  {
   "cell_type": "code",
   "execution_count": null,
   "metadata": {},
   "outputs": [],
   "source": [
    "# Capturing user input\n",
    "# Take input form the user and store them in two different variables.\n",
    "num1 = input(\"Enter the first number: \")\n",
    "num2 = input(\"Enter the second number: \")\n",
    "\n",
    "# Convert the data type of the two variables from str to int.\n",
    "num1 = int(num1)\n",
    "num2 = int(num2)\n",
    "\n",
    "# Add the two ints together.\n",
    "total = num1 + num2\n",
    "\n",
    "# Print the results to the screen, using the format function.\n",
    "print (\"The sum of {0} and {1} is {2}\".format(num1,num2, total))\n",
    "\n",
    "#print(\"The sum of \" + str(num1) + \" and \" + str(num2) + \" is \" + str(total))"
   ]
  },
  {
   "cell_type": "markdown",
   "metadata": {},
   "source": [
    "## 🙋 Question 1:"
   ]
  },
  {
   "cell_type": "markdown",
   "metadata": {},
   "source": [
    "In python, using print statements and variables, print out the following verse:\n",
    "    \n",
    "    \"The main aim of the BLOODHOUND Project is to inspire the next generation of scientists and engineers. \n",
    "    The BLOODHOUND Education Programme is available to all schools, students in higher education & home educators. \n",
    "    \n",
    "    The Jet Engine that powers BLOODHOUND produces over 20,000 lb of thrust, additionally the hybrid\n",
    "    rocket engines that kick in at 500 mph have over 27,000 lb of thrust and the auxillary power unit produces 588kW.\n",
    "    \n",
    "    BLOODHOUND SSC will travel so fast that at a top speed it will cover the length of 4.5 football pitches in 1 sec,\n",
    "    this also means that each wheel will be rotating at 10,000 rpm.\"\n",
    "\n",
    "Make sure to use as many variables as possible to store repeated words and ensure that new lines are in the correct places! Test out your code in the cell below."
   ]
  },
  {
   "cell_type": "code",
   "execution_count": null,
   "metadata": {},
   "outputs": [],
   "source": [
    "# YOUR ANSWER HERE:\n"
   ]
  },
  {
   "cell_type": "markdown",
   "metadata": {},
   "source": [
    "## 📐 Section 2"
   ]
  },
  {
   "cell_type": "markdown",
   "metadata": {},
   "source": [
    "In Section 2 we will be learning about the following\n",
    "    - for loops & nested for loops\n",
    "    - if else statements - conditions & boolean values \n",
    "    - operators & modulo operator\n",
    "    - capturing user input"
   ]
  },
  {
   "cell_type": "markdown",
   "metadata": {},
   "source": [
    "Now let's move on to looking at if-else statements, run the cell below and then try chanding the value of \"a\" in the cell in order to see what happens"
   ]
  },
  {
   "cell_type": "markdown",
   "metadata": {},
   "source": [
    "Change the value of \"a\" in the above cell in order to see what happens"
   ]
  },
  {
   "cell_type": "code",
   "execution_count": null,
   "metadata": {},
   "outputs": [],
   "source": [
    "# assignment variables\n",
    "a = 10\n",
    "\n",
    "# what do you think the difference is between 1, 2 or 3 equals?\n",
    "\n",
    "if (a =< 10 and a < 20):\n",
    "    print(\"Your number is: \" + str(a))\n",
    "elif (a == 20):\n",
    "    print(\"Another example: \" + str(a))\n",
    "else:\n",
    "    print (\"Oops you broke it!\")"
   ]
  },
  {
   "cell_type": "markdown",
   "metadata": {},
   "source": [
    "Now let's move on to for loops, think about what the following code is doing: <br />\n",
    "Run the cell below by holding down the `Shift` key and pressing `Enter`"
   ]
  },
  {
   "cell_type": "code",
   "execution_count": null,
   "metadata": {},
   "outputs": [],
   "source": [
    "for x in range (10):\n",
    "    print(x)"
   ]
  },
  {
   "cell_type": "markdown",
   "metadata": {},
   "source": [
    "Run the next two cells to see the for loops below and think about what is happening"
   ]
  },
  {
   "cell_type": "code",
   "execution_count": null,
   "metadata": {},
   "outputs": [],
   "source": [
    "print(\"+----+\")\n",
    "for i in range (3):\n",
    "    print(\"\\\\    /\")\n",
    "    print(\"/    \\\\\")\n",
    "print(\"+----+\")\n",
    "\n",
    "print(\"\\\\\")"
   ]
  },
  {
   "cell_type": "code",
   "execution_count": null,
   "metadata": {},
   "outputs": [],
   "source": [
    "# Nested for loop\n",
    "for i in range (5):\n",
    "    for j in range(5-i):\n",
    "        print(\"*\"),\n",
    "    print(5 - i)      "
   ]
  },
  {
   "cell_type": "markdown",
   "metadata": {},
   "source": [
    "## 🙋 Question 2:"
   ]
  },
  {
   "cell_type": "markdown",
   "metadata": {},
   "source": [
    "Now have a play around with print statements, for loops & nested for loops to create your own design. Test out your code in the box below"
   ]
  },
  {
   "cell_type": "code",
   "execution_count": null,
   "metadata": {},
   "outputs": [],
   "source": [
    "# YOUR ANSWER HERE:\n"
   ]
  },
  {
   "cell_type": "markdown",
   "metadata": {},
   "source": [
    "Now we're going to take a look at capturing user input, if-else statements and the modulo operator <br />\n",
    "Run the cell below by holding down the `Shift` key and pressing `Enter`"
   ]
  },
  {
   "cell_type": "code",
   "execution_count": null,
   "metadata": {},
   "outputs": [],
   "source": [
    "# Take in input from the user.\n",
    "limit = input(\"Please enter in an upper range: \")\n",
    "\n",
    "# Convert the input into an integer type.\n",
    "limit = int(limit)\n",
    "\n",
    "# Start the for-loop.\n",
    "for i in range(limit):\n",
    "\n",
    "    # now we can check if the number is odd or even.\n",
    "    if((i % 2) == 0):\n",
    "\n",
    "        # We know this number is even, so print.\n",
    "        print(i)\n",
    "    else:\n",
    "        # This must therefore be odd, so ignore.\n",
    "        continue"
   ]
  },
  {
   "cell_type": "markdown",
   "metadata": {},
   "source": [
    "## 🙋 Question 3:"
   ]
  },
  {
   "cell_type": "markdown",
   "metadata": {},
   "source": [
    "What would you have to do to print the odd numbers? Test out your code in the box below"
   ]
  },
  {
   "cell_type": "code",
   "execution_count": null,
   "metadata": {},
   "outputs": [],
   "source": [
    "# YOUR ANSWER HERE:\n"
   ]
  },
  {
   "cell_type": "markdown",
   "metadata": {},
   "source": [
    "## 🙋 Question 4: (Bonus question)"
   ]
  },
  {
   "cell_type": "markdown",
   "metadata": {},
   "source": [
    "At this stage you can skip ahead to section 3. What would you do to first print all the even numbers and then print all the odd numbers? Test out your code in the box below"
   ]
  },
  {
   "cell_type": "code",
   "execution_count": null,
   "metadata": {},
   "outputs": [],
   "source": [
    "# YOUR ANSWER HERE:\n"
   ]
  },
  {
   "cell_type": "markdown",
   "metadata": {},
   "source": [
    "## 📐 Section 3"
   ]
  },
  {
   "cell_type": "markdown",
   "metadata": {},
   "source": [
    "In Section 3 we will be learning about the following\n",
    "    - strings\n",
    "    - string splitting & slicing methods\n",
    "    - arrays & referencing one value from an array"
   ]
  },
  {
   "cell_type": "markdown",
   "metadata": {},
   "source": [
    "Let's have a look at using string methods, run the following piece of code and think about what happens. <br />\n",
    "Run the cell below by holding down the `Shift` key and pressing `Enter`"
   ]
  },
  {
   "cell_type": "code",
   "execution_count": null,
   "metadata": {},
   "outputs": [],
   "source": [
    "String = \"Supersonic, Aerodynamic, Kinetic, Nammo-rocket, Hydraulic\"\n",
    "\n",
    "print(String)\n",
    "print(String[4])\n",
    "\n",
    "L = String.split(\", \")\n",
    "\n",
    "print(L)\n",
    "print(L[3])"
   ]
  },
  {
   "cell_type": "markdown",
   "metadata": {},
   "source": [
    "Run the following piece of code and try to understand what is happening. <br />\n",
    "Run the cell below by holding down the `Shift` key and pressing `Enter`"
   ]
  },
  {
   "cell_type": "code",
   "execution_count": null,
   "metadata": {},
   "outputs": [],
   "source": [
    "# Define a new phrase\n",
    "phrase = \"Bloodhound has more power than 150 Formula One cars\"\n",
    "\n",
    "# Just get a single letter\n",
    "print(phrase[3])\n",
    "\n",
    "# Here we are splitting the word\n",
    "split_phrase = phrase[1:3]\n",
    "\n",
    "# Pritns out the word 'el'\n",
    "print(split_phrase)"
   ]
  },
  {
   "cell_type": "markdown",
   "metadata": {},
   "source": [
    "Take a look at the following piece of code and understand what's going on. <br />\n",
    "Run the cell below by holding down the `Shift` key and pressing `Enter`"
   ]
  },
  {
   "cell_type": "code",
   "execution_count": null,
   "metadata": {},
   "outputs": [],
   "source": [
    "# Create a new list and fill with 10 numbers.\n",
    "my_list = [10, 20, 30, 40, 50, 60, 70, 80, 90, 100]\n",
    "\n",
    "# This will return the length of the list (number of items)\n",
    "n = len(my_list)\n",
    "\n",
    "# This will return the item located at index 5, so its the 6th element.\n",
    "item = my_list[5]\n",
    "\n",
    "# Will return a sequence of items, contains every 2nd item from 'my_list'.\n",
    "sequence_1 = my_list[::2]\n",
    "\n",
    "# Will return a sequence of items, contains the elemnts betwen index 3 and 8.\n",
    "sequence_2 = my_list[3:8]\n",
    "\n",
    "print(\"The list contains {0} items, an item in the list is {1}\".format(n, item))\n",
    "\n",
    "print(\"First sequence containing every other item: {0}\".format(sequence_1))\n",
    "print(\"Second sequence containing items between 3 and 8: {0}\".format(sequence_2))"
   ]
  },
  {
   "cell_type": "markdown",
   "metadata": {},
   "source": [
    "## 🙋 Question 5:"
   ]
  },
  {
   "cell_type": "markdown",
   "metadata": {},
   "source": [
    "How can you print the items in a list in reverse order? Test out your code in the cell below"
   ]
  },
  {
   "cell_type": "code",
   "execution_count": null,
   "metadata": {},
   "outputs": [],
   "source": [
    "# YOUR ANSWER HERE:\n"
   ]
  },
  {
   "cell_type": "markdown",
   "metadata": {},
   "source": [
    "Congratulations! You've reached the end of code club and have now got an introduction on how to write code in python as well as fundamental programming concepts! We hope you have had lots of fun going through this tutorial and learnt something new! Below is a bonus section on understanding how we apply the use of programming concepts to real life scenarios, and in this case we are looking at Bloodhound SSC! ...Have fun!"
   ]
  },
  {
   "cell_type": "markdown",
   "metadata": {},
   "source": [
    "## 🚀 Section 4: The Physics of Bloodhound"
   ]
  },
  {
   "cell_type": "markdown",
   "metadata": {},
   "source": [
    "This is where we are going to combine writing code in python, apply it to the physics of BloodhoundSSC and run a simulation to see Bloodhound in action! Take a look at the images below on some more amazing facts on BloodhoundSSC before we move on to the final question!"
   ]
  },
  {
   "cell_type": "markdown",
   "metadata": {},
   "source": [
    "Run the cell below by holding down the `Shift` key and pressing `Enter` to find out some amazing facts about Bloodhound SSC and to see the history of the land speed record being broken!"
   ]
  },
  {
   "cell_type": "code",
   "execution_count": null,
   "metadata": {},
   "outputs": [],
   "source": [
    "display(HTML(\"<table><tr><td width='50%'><img src='BHAstoundingFacts.jpg' width='100%'></td><td><img src='BHSpeed.jpg'></td></tr></table>\"))"
   ]
  },
  {
   "cell_type": "markdown",
   "metadata": {},
   "source": [
    "When the driver, Andy, starts up his Jet engines and rockets in Bloodhound there is a force pushing the car forward. This force is known as Thrust. Thrust causes the car to accelerate and the more thrust there is, the more Bloodhound will accelerate and the faster it will go! The equation for force and acceleration on Bloodhound SSC is:"
   ]
  },
  {
   "cell_type": "markdown",
   "metadata": {},
   "source": [
    "$$F = ma $$"
   ]
  },
  {
   "cell_type": "markdown",
   "metadata": {},
   "source": [
    "where $F$ is the force exerted on Bloodhound in newtons $N$, $m$ is the mass of Bloodhound in $kg$ and $a$ is the acceleration of the car in $ms⁻²$"
   ]
  },
  {
   "cell_type": "markdown",
   "metadata": {},
   "source": [
    "To calculate the top speed of Bloodhound, we can use the equation below:"
   ]
  },
  {
   "cell_type": "markdown",
   "metadata": {},
   "source": [
    "$$v = u + at $$"
   ]
  },
  {
   "cell_type": "markdown",
   "metadata": {},
   "source": [
    "where $v$ is the final velocity, $u$ is the intial velocity (starting at 0), $a$ is the acceleration and $t$ is time."
   ]
  },
  {
   "cell_type": "markdown",
   "metadata": {},
   "source": [
    "We are going to have a look at how Bloodhound's speed and thrust changes as it travels down the runway!"
   ]
  },
  {
   "cell_type": "code",
   "execution_count": null,
   "metadata": {},
   "outputs": [],
   "source": [
    "# v = u + at\n",
    "# F = ma\n",
    "\n",
    "u = 0 # ms⁻¹\n",
    "t = 10.0 # seconds\n",
    "v = 210.0 # mph\n",
    "\n",
    "# convert mph to ms⁻¹\n",
    "v = v * 0.44704\n",
    "print(\"Bloodhound's velocity is: \" + str(round(v,2)) + \"ms⁻¹\")\n",
    "\n",
    "# calculate acceleration\n",
    "a = (v - u) / t\n",
    "print(\"Bloodhound's acceleration is: \" + str(round(a,2)) + \"ms⁻²\")"
   ]
  },
  {
   "cell_type": "markdown",
   "metadata": {},
   "source": [
    "## 🙋 Question 6:"
   ]
  },
  {
   "cell_type": "markdown",
   "metadata": {},
   "source": [
    "By estimating the mass in $kg$, calculate the Force $F$ on Bloodhound using the acceleration and the equation above. Remember to make sure everything is in the right units!"
   ]
  },
  {
   "cell_type": "code",
   "execution_count": null,
   "metadata": {},
   "outputs": [],
   "source": [
    "# YOUR ANSWER HERE\n"
   ]
  }
 ],
 "metadata": {
  "kernelspec": {
   "display_name": "Python 2",
   "language": "python",
   "name": "python2"
  },
  "language_info": {
   "codemirror_mode": {
    "name": "ipython",
    "version": 2
   },
   "file_extension": ".py",
   "mimetype": "text/x-python",
   "name": "python",
   "nbconvert_exporter": "python",
   "pygments_lexer": "ipython2",
   "version": "2.7.15"
  }
 },
 "nbformat": 4,
 "nbformat_minor": 2
}
