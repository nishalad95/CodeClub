{
 "cells": [
  {
   "cell_type": "markdown",
   "metadata": {},
   "source": [
    "# Welcome to Python Code Club!"
   ]
  },
  {
   "cell_type": "markdown",
   "metadata": {},
   "source": [
    "#### Hooray! You are part of an exclusive group of people that have worked through this self-contained Jupyter notebook in order to learn Python. Throughout this notebook you will initially learn the basics of programming in Python, covering operators, statements, variables and loops."
   ]
  },
  {
   "cell_type": "code",
   "execution_count": 33,
   "metadata": {},
   "outputs": [],
   "source": [
    "# explain wtf python is"
   ]
  },
  {
   "cell_type": "markdown",
   "metadata": {},
   "source": [
    "#### Don't worry! If you need further assistance, we have plenty of team members to help you! "
   ]
  },
  {
   "cell_type": "markdown",
   "metadata": {},
   "source": [
    "## Section 1"
   ]
  },
  {
   "cell_type": "markdown",
   "metadata": {},
   "source": [
    "In Section 1 we will be learning about print statements, how to obtain and use user input, how to produc user output, using variables in python and variable types"
   ]
  },
  {
   "cell_type": "code",
   "execution_count": 3,
   "metadata": {},
   "outputs": [
    {
     "name": "stdout",
     "output_type": "stream",
     "text": [
      "Hello, world!\n",
      "\n",
      "\n",
      "This program produces\n",
      "four lines of output\n"
     ]
    }
   ],
   "source": [
    "print(\"Hello, world!\")\n",
    "print(\"\\n\")\n",
    "print(\"This program produces\")\n",
    "print(\"four lines of output\")"
   ]
  },
  {
   "cell_type": "code",
   "execution_count": 4,
   "metadata": {},
   "outputs": [],
   "source": [
    "#notice how the \"\\n\" character is a new line character"
   ]
  },
  {
   "cell_type": "code",
   "execution_count": 5,
   "metadata": {},
   "outputs": [
    {
     "name": "stdout",
     "output_type": "stream",
     "text": [
      "Enter the first number: 5\n",
      "Enter the second number: 2\n",
      "The sum of 5 and 2 is 7\n"
     ]
    }
   ],
   "source": [
    "# Capturing user input\n",
    "# Take input form the user and store them in two different variables.\n",
    "num1 = input(\"Enter the first number: \")\n",
    "num2 = input(\"Enter the second number: \")\n",
    "\n",
    "# Convert the data type of the two variables from str to int.\n",
    "num1 = int(num1)\n",
    "num2 = int(num2)\n",
    "\n",
    "# Add the two ints together.\n",
    "sum_ = num1 + num2\n",
    "\n",
    "# Print the results to the screen, using the format function.\n",
    "print (\"The sum of {0} and {1} is {2}\".format(num1,num2, sum_))"
   ]
  },
  {
   "cell_type": "code",
   "execution_count": 6,
   "metadata": {},
   "outputs": [],
   "source": [
    "# section 1 question:"
   ]
  },
  {
   "cell_type": "code",
   "execution_count": null,
   "metadata": {},
   "outputs": [],
   "source": []
  },
  {
   "cell_type": "code",
   "execution_count": 7,
   "metadata": {},
   "outputs": [],
   "source": [
    "#Section 2:\n",
    "# for loops\n",
    "# if else - conditions, booleans, modulo / operators\n",
    "# user input"
   ]
  },
  {
   "cell_type": "code",
   "execution_count": 8,
   "metadata": {},
   "outputs": [],
   "source": [
    "#for loops and if statements"
   ]
  },
  {
   "cell_type": "code",
   "execution_count": 10,
   "metadata": {},
   "outputs": [
    {
     "name": "stdout",
     "output_type": "stream",
     "text": [
      "Your number is: 10\n"
     ]
    }
   ],
   "source": [
    "a = 10\n",
    "\n",
    "if (a == 10):\n",
    "    print(\"Your number is: \" + str(a))\n",
    "elif (a == 20):\n",
    "    print(\"Your number is: \" + str(a))\n",
    "else:\n",
    "    print (\"Oops you broke it!\")"
   ]
  },
  {
   "cell_type": "code",
   "execution_count": 11,
   "metadata": {},
   "outputs": [
    {
     "name": "stdout",
     "output_type": "stream",
     "text": [
      "0\n",
      "1\n",
      "2\n",
      "3\n",
      "4\n",
      "5\n",
      "6\n",
      "7\n",
      "8\n",
      "9\n"
     ]
    }
   ],
   "source": [
    "for x in range (10):\n",
    "    print(x)"
   ]
  },
  {
   "cell_type": "code",
   "execution_count": 12,
   "metadata": {},
   "outputs": [
    {
     "name": "stdout",
     "output_type": "stream",
     "text": [
      "+----+\n",
      "\\    /\n",
      "/    \\\n",
      "\\    /\n",
      "/    \\\n",
      "\\    /\n",
      "/    \\\n",
      "+----+\n"
     ]
    }
   ],
   "source": [
    "print(\"+----+\")\n",
    "for i in range (3):\n",
    "    print(\"\\\\    /\")\n",
    "    print(\"/    \\\\\")\n",
    "print(\"+----+\")"
   ]
  },
  {
   "cell_type": "code",
   "execution_count": 13,
   "metadata": {},
   "outputs": [
    {
     "name": "stdout",
     "output_type": "stream",
     "text": [
      "* * * * * 1\n",
      "* * * * 2\n",
      "* * * 3\n",
      "* * 4\n",
      "* 5\n"
     ]
    }
   ],
   "source": [
    "for i in range (5):\n",
    "    for j in range(5-i):\n",
    "        print(\"*\"),\n",
    "    print(i + 1)      "
   ]
  },
  {
   "cell_type": "code",
   "execution_count": 14,
   "metadata": {},
   "outputs": [],
   "source": [
    "# challenge: create your own design/nested for loop"
   ]
  },
  {
   "cell_type": "code",
   "execution_count": null,
   "metadata": {},
   "outputs": [],
   "source": []
  },
  {
   "cell_type": "code",
   "execution_count": 15,
   "metadata": {},
   "outputs": [
    {
     "name": "stdout",
     "output_type": "stream",
     "text": [
      "Please enter in an upper range: 4\n",
      "0\n",
      "2\n"
     ]
    }
   ],
   "source": [
    "# Take in input from the user.\n",
    "range_ = input(\"Please enter in an upper range: \")\n",
    "\n",
    "# Convert the input into an integer type.\n",
    "range_ = int(range_)\n",
    "\n",
    "# Start the for-loop.\n",
    "for i in range(range_):\n",
    "\n",
    "    # now we can check if the number is odd or even.\n",
    "    if((i % 2) == 0):\n",
    "\n",
    "        # We know this number is even, so print.\n",
    "        print(i)\n",
    "    else:\n",
    "        # This must therefore be odd, so ignore.\n",
    "        continue"
   ]
  },
  {
   "cell_type": "code",
   "execution_count": 16,
   "metadata": {},
   "outputs": [],
   "source": [
    "# challenge: what would you have to do to print the odd numbers\n",
    "# write your code in the box below"
   ]
  },
  {
   "cell_type": "code",
   "execution_count": 17,
   "metadata": {},
   "outputs": [],
   "source": [
    "# challenge: what would you do to first print all the even, then print all the odd"
   ]
  },
  {
   "cell_type": "code",
   "execution_count": null,
   "metadata": {},
   "outputs": [],
   "source": []
  },
  {
   "cell_type": "code",
   "execution_count": null,
   "metadata": {},
   "outputs": [],
   "source": []
  },
  {
   "cell_type": "code",
   "execution_count": null,
   "metadata": {},
   "outputs": [],
   "source": []
  },
  {
   "cell_type": "code",
   "execution_count": 18,
   "metadata": {},
   "outputs": [],
   "source": [
    "# Section 3:\n",
    "# strings, string splitting, slicing, methods\n",
    "# arrays, referencing one value from an array"
   ]
  },
  {
   "cell_type": "code",
   "execution_count": 19,
   "metadata": {},
   "outputs": [
    {
     "name": "stdout",
     "output_type": "stream",
     "text": [
      "Apples,Oranges, Pears, Grapes, Tomatoes\n",
      "e\n",
      "['Apples,Oranges', 'Pears', 'Grapes', 'Tomatoes']\n",
      "Tomatoes\n"
     ]
    }
   ],
   "source": [
    "String = \"Apples,Oranges, Pears, Grapes, Tomatoes\"\n",
    "\n",
    "print(String)\n",
    "print(String[4])\n",
    "\n",
    "L = String.split(\", \")\n",
    "\n",
    "print(L)\n",
    "print(L[3])"
   ]
  },
  {
   "cell_type": "code",
   "execution_count": 20,
   "metadata": {},
   "outputs": [
    {
     "name": "stdout",
     "output_type": "stream",
     "text": [
      "l\n",
      "el\n"
     ]
    }
   ],
   "source": [
    "# Define a new word\n",
    "Word = \"Hello, World\"\n",
    "\n",
    "# Just get a single letter\n",
    "print(Word[3])\n",
    "\n",
    "# Here we are splitting the word\n",
    "Split_word = Word[1:3]\n",
    "\n",
    "# Pritns out the word 'el'\n",
    "print(Split_word)"
   ]
  },
  {
   "cell_type": "code",
   "execution_count": null,
   "metadata": {},
   "outputs": [],
   "source": []
  },
  {
   "cell_type": "code",
   "execution_count": 21,
   "metadata": {},
   "outputs": [
    {
     "name": "stdout",
     "output_type": "stream",
     "text": [
      "The list contains 10 items, an item in the list is 60\n",
      "First sequence containing every other item: [10, 30, 50, 70, 90]\n",
      "Second sequence containing items between 3 and 8: [40, 50, 60, 70, 80]\n"
     ]
    }
   ],
   "source": [
    "# Create a new list and fill with 10 numbers.\n",
    "my_list = [10, 20, 30, 40, 50, 60, 70, 80, 90, 100]\n",
    "\n",
    "# This will return the length of the list (number of items)\n",
    "n = len(my_list)\n",
    "\n",
    "# This will return the item located at index 5, so its the 6th element.\n",
    "item = my_list[5]\n",
    "\n",
    "# Will return a sequence of items, contains every 2nd item from 'my_list'.\n",
    "sequence_1 = my_list[::2]\n",
    "\n",
    "# Will return a sequence of items, contains the elemnts betwen index 3 and 8.\n",
    "sequence_2 = my_list[3:8]\n",
    "\n",
    "print(\"The list contains {0} items, an item in the list is {1}\".format(n, item))\n",
    "\n",
    "print(\"First sequence containing every other item: {0}\".format(sequence_1))\n",
    "print(\"Second sequence containing items between 3 and 8: {0}\".format(sequence_2))"
   ]
  },
  {
   "cell_type": "code",
   "execution_count": 22,
   "metadata": {},
   "outputs": [],
   "source": [
    "#Challenge: How can you print the items in a list in reverse order?"
   ]
  },
  {
   "cell_type": "code",
   "execution_count": 35,
   "metadata": {},
   "outputs": [
    {
     "name": "stdout",
     "output_type": "stream",
     "text": [
      "100 90 80 70 60 50 40 30 20 10\n"
     ]
    }
   ],
   "source": [
    "for i in reversed(my_list):\n",
    "    print(i),"
   ]
  },
  {
   "cell_type": "code",
   "execution_count": null,
   "metadata": {},
   "outputs": [],
   "source": []
  }
 ],
 "metadata": {
  "kernelspec": {
   "display_name": "Python 2",
   "language": "python",
   "name": "python2"
  },
  "language_info": {
   "codemirror_mode": {
    "name": "ipython",
    "version": 2
   },
   "file_extension": ".py",
   "mimetype": "text/x-python",
   "name": "python",
   "nbconvert_exporter": "python",
   "pygments_lexer": "ipython2",
   "version": "2.7.15"
  }
 },
 "nbformat": 4,
 "nbformat_minor": 2
}
