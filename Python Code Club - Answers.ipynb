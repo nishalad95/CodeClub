{
 "cells": [
  {
   "cell_type": "markdown",
   "metadata": {},
   "source": [
    "## 🙋 Answer 3:"
   ]
  },
  {
   "cell_type": "markdown",
   "metadata": {},
   "source": [
    "What would you have to do to print the odd numbers? Test out your code in the box below"
   ]
  },
  {
   "cell_type": "code",
   "execution_count": null,
   "metadata": {},
   "outputs": [],
   "source": [
    "# You can either do \n",
    "# if((i % 2) == 1) \n",
    "# or\n",
    "# if((i % 2) != 0)"
   ]
  },
  {
   "cell_type": "markdown",
   "metadata": {},
   "source": [
    "## 🙋 Answer 4:"
   ]
  },
  {
   "cell_type": "markdown",
   "metadata": {},
   "source": [
    "At this stage you can skip ahead to section 3. What would you do to first print all the even numbers and then print all the odd numbers? Test out your code in the box below"
   ]
  },
  {
   "cell_type": "code",
   "execution_count": 1,
   "metadata": {},
   "outputs": [
    {
     "name": "stdout",
     "output_type": "stream",
     "text": [
      "Please enter in an upper range: 10\n",
      "0\n",
      "2\n",
      "4\n",
      "7\n",
      "9\n"
     ]
    }
   ],
   "source": [
    "# Take in input from the user.\n",
    "limit = input(\"Please enter in an upper range: \")\n",
    "\n",
    "# Convert the input into an integer type.\n",
    "limit = int(limit)\n",
    "\n",
    "for i in range(limit):\n",
    "    \n",
    "    if (i <= limit/2):\n",
    "       \n",
    "        if ((i % 2) == 0):\n",
    "            print(i)\n",
    "        else:\n",
    "            continue\n",
    "            \n",
    "    else:\n",
    "        \n",
    "        if ((i % 2) != 0):\n",
    "            print(i)\n",
    "        else:\n",
    "            continue"
   ]
  },
  {
   "cell_type": "markdown",
   "metadata": {},
   "source": [
    "## 🙋 Answer 5:"
   ]
  },
  {
   "cell_type": "markdown",
   "metadata": {},
   "source": [
    "How can you print the items in a list in reverse order? Test out your code in the cell below"
   ]
  },
  {
   "cell_type": "code",
   "execution_count": null,
   "metadata": {},
   "outputs": [],
   "source": []
  },
  {
   "cell_type": "markdown",
   "metadata": {},
   "source": [
    "## 🙋 Question 6 development:"
   ]
  },
  {
   "cell_type": "code",
   "execution_count": null,
   "metadata": {},
   "outputs": [],
   "source": [
    "# Other equations to develop code club further\n",
    "\n",
    "# F = ma\n",
    "# v = s/t (constant acc)\n",
    "\n",
    "# v = u + at\n",
    "# s = ut + (1/2)at^2\n",
    "# v^2 =  u^2 + 2as \n",
    "# s = (1/2)(v + u)*t"
   ]
  }
 ],
 "metadata": {
  "kernelspec": {
   "display_name": "Python 2",
   "language": "python",
   "name": "python2"
  },
  "language_info": {
   "codemirror_mode": {
    "name": "ipython",
    "version": 2
   },
   "file_extension": ".py",
   "mimetype": "text/x-python",
   "name": "python",
   "nbconvert_exporter": "python",
   "pygments_lexer": "ipython2",
   "version": "2.7.15"
  }
 },
 "nbformat": 4,
 "nbformat_minor": 2
}
