{
 "cells": [
  {
   "cell_type": "markdown",
   "metadata": {},
   "source": [
    "## 🙋 Question 4:"
   ]
  },
  {
   "cell_type": "code",
   "execution_count": null,
   "metadata": {},
   "outputs": [],
   "source": [
    "# Take in input from the user.\n",
    "range_ = input(\"Please enter in an upper range: \")\n",
    "\n",
    "# Convert the input into an integer type.\n",
    "range_ = int(range_)\n",
    "\n",
    "for i in range(range_):\n",
    "    \n",
    "    if (i <= range_/2):\n",
    "       \n",
    "        if ((i % 2) == 0):\n",
    "            print(i)\n",
    "        else:\n",
    "            continue\n",
    "            \n",
    "    else:\n",
    "        \n",
    "        if ((i % 2) != 0):\n",
    "            print(i)\n",
    "        else:\n",
    "            continue"
   ]
  }
 ],
 "metadata": {
  "kernelspec": {
   "display_name": "Python 2",
   "language": "python",
   "name": "python2"
  },
  "language_info": {
   "codemirror_mode": {
    "name": "ipython",
    "version": 2
   },
   "file_extension": ".py",
   "mimetype": "text/x-python",
   "name": "python",
   "nbconvert_exporter": "python",
   "pygments_lexer": "ipython2",
   "version": "2.7.15"
  }
 },
 "nbformat": 4,
 "nbformat_minor": 2
}
